{
 "cells": [
  {
   "cell_type": "markdown",
   "metadata": {},
   "source": [
    "#  Disentangled Sequential Variational Autoencoder using Tensorflow Probability\n",
    "\n",
    "<table class=\"tfo-notebook-buttons\" align=\"left\">\n",
    "  <td>\n",
    "    <a target=\"_blank\" href=\"https://colab.research.google.com/github/SachsLab/IntracranialNeurophysDL/blob/master/notebooks/06_03_DisentangledSequentialAE_TFP.ipynb\"><img src=\"https://www.tensorflow.org/images/colab_logo_32px.png\" />Run in Google Colab</a>\n",
    "  </td>\n",
    "  <td>\n",
    "    <a target=\"_blank\" href=\"https://github.com/SachsLab/IntracranialNeurophysDL/blob/master/notebooks/06_03_DisentangledSequentialAE_TFP.ipynb\"><img src=\"https://www.tensorflow.org/images/GitHub-Mark-32px.png\" />View source on GitHub</a>\n",
    "  </td>\n",
    "</table>"
   ]
  },
  {
   "cell_type": "markdown",
   "metadata": {},
   "source": [
    "## Introduction\n",
    "\n",
    "[TF Probability example of disentangled VAE](https://github.com/tensorflow/probability/blob/master/tensorflow_probability/examples/disentangled_vae.py) from [Li and Mandt, ICML 2018](https://arxiv.org/pdf/1803.02991.pdf).\n",
    "\n",
    "> This notebook is in very early stages of development and is not ready for public consumption.\n",
    "\n",
    "To understand the details of this notebook you must first go through the 05_04_betaVAE_TFP notebook.\n",
    "\n",
    "### Definition\n",
    "\n",
    "This kind of model deviates from a $\\beta$-VAE by using more explicit architecture to separately encode different dimensions of the data. The training is designed so that the model learns to encode a latent representation that is split into features that **disentangle** relevant and interpretable features. With careful model formulation, this can be used to disentangle time-dependent features (dynamics) and static features (content / context)."
   ]
  },
  {
   "cell_type": "markdown",
   "metadata": {},
   "source": [
    "## Prepare Notebook"
   ]
  },
  {
   "cell_type": "code",
   "execution_count": 1,
   "metadata": {},
   "outputs": [],
   "source": [
    "%load_ext autoreload\n",
    "%autoreload 2"
   ]
  },
  {
   "cell_type": "code",
   "execution_count": 2,
   "metadata": {},
   "outputs": [],
   "source": [
    "from pathlib import Path\n",
    "import os\n",
    "import sys\n",
    "\n",
    "\n",
    "try:\n",
    "    # See if we are running on google.colab\n",
    "    from google.colab import files\n",
    "    %tensorflow_version 2.x\n",
    "    os.chdir('..')\n",
    "    \n",
    "    if not (Path.home() / '.kaggle').is_dir():\n",
    "        # Configure kaggle\n",
    "        uploaded = files.upload()  # Find the kaggle.json file in your ~/.kaggle directory.\n",
    "        if 'kaggle.json' in uploaded.keys():\n",
    "            !mkdir -p ~/.kaggle\n",
    "            !mv kaggle.json ~/.kaggle/\n",
    "            !chmod 600 ~/.kaggle/kaggle.json\n",
    "\n",
    "    if Path.cwd().stem != 'IntracranialNeurophysDL':\n",
    "        if not (Path.cwd() / 'IntracranialNeurophysDL').is_dir():\n",
    "            # Download the workshop repo and change to its directory\n",
    "            !git clone --recursive https://github.com/SachsLab/IntracranialNeurophysDL.git\n",
    "        os.chdir('IntracranialNeurophysDL')\n",
    "        \n",
    "    !pip install git+https://github.com/SachsLab/indl.git\n",
    "    !pip install -q kaggle\n",
    "    !pip install --upgrade tensorflow-probability\n",
    "    IN_COLAB = True\n",
    "\n",
    "except ModuleNotFoundError:\n",
    "    IN_COLAB = False\n",
    "    import sys\n",
    "    if Path.cwd().stem == 'notebooks':\n",
    "        os.chdir(Path.cwd().parent)\n",
    "    # Make sure the kaggle executable is on the PATH\n",
    "    os.environ['PATH'] = os.environ['PATH'] + ';' + str(Path(sys.executable).parent / 'Scripts')\n",
    "\n",
    "# Try to clear any logs from previous runs\n",
    "if (Path.cwd() / 'logs').is_dir():\n",
    "    import shutil\n",
    "    try:\n",
    "        shutil.rmtree(str(Path.cwd() / 'logs'))\n",
    "    except PermissionError:\n",
    "        print(\"Unable to remove logs directory.\")"
   ]
  },
  {
   "cell_type": "code",
   "execution_count": 3,
   "metadata": {},
   "outputs": [],
   "source": [
    "import numpy as np\n",
    "import random\n",
    "import matplotlib.pyplot as plt\n",
    "import tensorflow as tf\n",
    "import tensorflow.keras.layers as tfkl\n",
    "from tensorflow.keras import backend as K\n",
    "import tensorflow_probability as tfp\n",
    "tfd = tfp.distributions\n",
    "tfpl = tfp.layers"
   ]
  },
  {
   "cell_type": "code",
   "execution_count": 4,
   "metadata": {},
   "outputs": [],
   "source": [
    "if True:\n",
    "    plt.style.use('dark_background')\n",
    "plt.rcParams.update({\n",
    "    'axes.titlesize': 24,\n",
    "    'axes.labelsize': 20,\n",
    "    'lines.linewidth': 2,\n",
    "    'lines.markersize': 5,\n",
    "    'xtick.labelsize': 16,\n",
    "    'ytick.labelsize': 16,\n",
    "    'legend.fontsize': 18,\n",
    "    'figure.figsize': (6.4, 6.4)\n",
    "})"
   ]
  },
  {
   "cell_type": "markdown",
   "metadata": {},
   "source": [
    "## Prepare Data\n",
    "\n",
    "While I'm figuring this out, I'll use a contrived dataset.\n",
    "\n",
    "Let's assume that we have N_LATENT different latent variables. The baseline value for each latent variable is 0.5 with white noise (mean=0, std=0.1) at each timestep.\n",
    "\n",
    "Each latent variable evolves over time following a sigmoid, with the amplitudes of each set of sigmoids being a random vector drawn from a (N_LATENT) multivariate distribution. There are N_CLASSES distinct distributions, 1 for each class.\n",
    "\n",
    "The evolved class-dependent latent variable is then mixed through a static mixing matrix to yield N_SENSORS sensor-space signals."
   ]
  },
  {
   "cell_type": "code",
   "execution_count": 5,
   "metadata": {},
   "outputs": [],
   "source": [
    "from indl.misc.sigfuncs import sigmoid\n",
    "from functools import partial\n",
    "\n",
    "\n",
    "N_LATENTS = 4\n",
    "N_SENSORS = 32\n",
    "N_CLASSES = 5\n",
    "FS = 25\n",
    "DURATION = 2  # seconds\n",
    "n_timesteps = int(DURATION * FS)\n",
    "tvec = np.arange(n_timesteps) / FS\n",
    "\n",
    "\n",
    "def make_signal_generator(n_latents=N_LATENTS, n_sensors=N_SENSORS,\n",
    "                          n_classes=N_CLASSES, n_timesteps=n_timesteps,\n",
    "                          seed=99):\n",
    "    np.random.seed(seed)\n",
    "    t = np.arange(n_timesteps) / FS\n",
    "    f_sig = partial(sigmoid, B=5, x_offset=1.0)\n",
    "    class_amps = np.random.uniform(low=-1.0, high=1.0, size=(N_CLASSES, N_LATENTS))\n",
    "    class_amps /= np.sum(np.abs(class_amps), axis=1, keepdims=True)\n",
    "    f_sig = partial(sigmoid, B=5, x_offset=1.0)\n",
    "    mix_mat = np.random.randn(N_SENSORS, N_LATENTS)\n",
    "    mix_mat /= np.sum(np.abs(mix_mat), axis=1, keepdims=True)\n",
    "    \n",
    "    def draw_sample(class_ix):\n",
    "        latent_mods = class_amps[class_ix, :, None] * f_sig(t)[None, :]\n",
    "        latent_protos = 0.5 * np.ones((N_LATENTS, 1)) + 0.1 * np.random.randn(N_LATENTS, n_timesteps)\n",
    "        latent_protos /= np.std(latent_protos, axis=1, keepdims=True)\n",
    "        latent_class_dat = latent_mods * latent_protos  # (N_LATENTS, n_timesteps)\n",
    "        sensor_class_dat = mix_mat @ latent_class_dat\n",
    "        \n",
    "        sig = sensor_class_dat.T\n",
    "        return sig\n",
    "    \n",
    "    return draw_sample"
   ]
  },
  {
   "cell_type": "code",
   "execution_count": 6,
   "metadata": {},
   "outputs": [
    {
     "data": {
      "image/png": "[encoded data removed]",
      "text/plain": [
       "<Figure size 460.8x460.8 with 5 Axes>"
      ]
     },
     "metadata": {},
     "output_type": "display_data"
    }
   ],
   "source": [
    "sig_gen = make_signal_generator()\n",
    "for class_ix in range(N_CLASSES):\n",
    "    plt.subplot(2, 3, class_ix + 1)\n",
    "    plt.plot(tvec, sig_gen(class_ix))\n",
    "plt.show()"
   ]
  },
  {
   "cell_type": "code",
   "execution_count": 7,
   "metadata": {},
   "outputs": [
    {
     "data": {
      "text/plain": [
       "(TensorSpec(shape=(8, 50, 32), dtype=tf.float64, name=None),\n",
       " TensorSpec(shape=(8,), dtype=tf.int32, name=None))"
      ]
     },
     "execution_count": 7,
     "metadata": {},
     "output_type": "execute_result"
    }
   ],
   "source": [
    "N_TRIALS = 10000\n",
    "BATCH_SIZE = 8\n",
    "\n",
    "sig_gen = make_signal_generator()\n",
    "Y = np.random.randint(0, high=N_CLASSES, size=N_TRIALS)\n",
    "X = np.stack([sig_gen(_) for _ in Y])\n",
    "dataset = tf.data.Dataset.from_tensor_slices((X, Y)).batch(BATCH_SIZE, drop_remainder=True)\n",
    "dataset.element_spec"
   ]
  },
  {
   "cell_type": "markdown",
   "metadata": {},
   "source": [
    "### Modify dataset\n",
    "\n",
    "Using Keras' training requires the dataset to be an x,y tuple, where x is the input and y are the values to which the model output will be compared. The autoencoder tries to reconstruct the input, thus the y values are just a copy of the x values. We do this by mapping a function to the dataset, where the function is a simple lambda that takes in x,y and returns x,x.\n",
    "\n",
    "However, our model generates 3 outputs, so Keras expects 3-length tuple in y. So we map our data from x,y --> x,(x, x, x)\n",
    "\n",
    "Note, only the last output of the model is compared to the input, the others are used for loss calculations that do not depend on the model outputs. We can save memory by mapping the first two outputs to empty tensors."
   ]
  },
  {
   "cell_type": "code",
   "execution_count": 8,
   "metadata": {},
   "outputs": [
    {
     "name": "stdout",
     "output_type": "stream",
     "text": [
      "(TensorSpec(shape=(8, 50, 32), dtype=tf.float32, name=None), (TensorSpec(shape=(0,), dtype=tf.float32, name=None), TensorSpec(shape=(0,), dtype=tf.float32, name=None), TensorSpec(shape=(8, 50, 32), dtype=tf.float32, name=None)))\n"
     ]
    }
   ],
   "source": [
    "ae_dataset = dataset.map(lambda x, y: (tf.cast(x, tf.float32),\n",
    "                                       (tf.zeros(0, dtype=tf.float32), tf.zeros(0, dtype=tf.float32),\n",
    "                                        tf.cast(x, tf.float32))))\n",
    "print(ae_dataset.element_spec)"
   ]
  },
  {
   "cell_type": "markdown",
   "metadata": {},
   "source": [
    "## Build Model\n",
    "\n",
    "Most of the details and explanation can be found in the 05_04_betaVAE_TFP notebook."
   ]
  },
  {
   "cell_type": "code",
   "execution_count": 9,
   "metadata": {},
   "outputs": [],
   "source": [
    "from indl.model.tfp import LearnableMultivariateNormalDiag, LearnableMultivariateNormalDiagCell\n",
    "# Specify constants\n",
    "LATENT_SIZE_STATIC = 8\n",
    "LATENT_OFFDIAG_STATIC = False  # Set to False to restrict latents to being independent (diagonal covariance)\n",
    "LATENT_SIZE_DYNAMIC = 4\n",
    "# LATENT_OFFDIAG_DYNAMIC = False  # Always False\n",
    "HIDDEN_SIZE = 12\n",
    "BATCH_SIZE = 8\n",
    "CLIP_NORM = 1e10\n",
    "LEARNING_RATE = 0.0001\n",
    "NUM_RECONSTRUCTION_SAMPLES = 1\n",
    "NUM_SAMPLES = 4\n",
    "RANDOM_SEED = 42\n",
    "MAX_STEPS = 10000\n",
    "N_GRU = 16\n",
    "N_EPOCHS = 30"
   ]
  },
  {
   "cell_type": "code",
   "execution_count": 85,
   "metadata": {},
   "outputs": [],
   "source": [
    "tfb = tfp.bijectors\n",
    "def make_mvn_prior(ndim, trainable=False, offdiag=False):\n",
    "    if not trainable:\n",
    "        if offdiag:\n",
    "            # With covariances\n",
    "            # Note: Diag must be > 0, upper triangular must be 0, and lower triangular may be != 0.\n",
    "            prior = tfd.MultivariateNormalTriL(\n",
    "                loc=tf.zeros(ndim),\n",
    "                scale_tril=tf.eye(ndim)\n",
    "            )\n",
    "        else:\n",
    "            # TODO: Determine if there is a reason to use one of these over the other.\n",
    "            if True:\n",
    "                prior = tfd.MultivariateNormalDiag(loc=tf.zeros(ndim), scale_diag=tf.ones(ndim))\n",
    "            else:\n",
    "                prior = tfd.Independent(tfd.Normal(loc=tf.zeros(ndim), scale=1),\n",
    "                                        reinterpreted_batch_ndims=1)\n",
    "    else:\n",
    "        # Note, in TransformedVariable, the initial value should be that AFTER transform\n",
    "        if offdiag:\n",
    "            n_scale = tfd.MultivariateNormalTriL.params_size(ndim) - ndim\n",
    "            prior = tfd.MultivariateNormalTriL(\n",
    "                loc=tf.Variable(tf.random.normal([ndim], stddev=0.1, dtype=tf.float32)),\n",
    "                scale_tril=tfp.util.TransformedVariable(\n",
    "                    tf.random.normal([n_scale], mean=1.0, stddev=0.1, dtype=tf.float32),\n",
    "                    tfb.FillScaleTriL())\n",
    "            )\n",
    "        else:\n",
    "            scale_shift = np.log(np.exp(1) - 1).astype(np.float32)\n",
    "            prior = tfd.MultivariateNormalDiag(\n",
    "                loc=tf.Variable(tf.random.normal([ndim], stddev=0.1, dtype=tf.float32)),\n",
    "                scale_diag=tfp.util.TransformedVariable(\n",
    "                    tf.random.normal([ndim], mean=1.0, stddev=0.1, dtype=tf.float32),\n",
    "                    bijector=tfb.Chain([tfb.Shift(1e-5), tfb.Softplus(), tfb.Shift(scale_shift)])\n",
    "                )\n",
    "            )\n",
    "    return prior"
   ]
  },
  {
   "cell_type": "code",
   "execution_count": 91,
   "metadata": {},
   "outputs": [],
   "source": [
    "def make_mvn_dist_fn(_x_, ndim, offdiag=False):\n",
    "    _loc = tfkl.Dense(ndim)(_x_)\n",
    "    if offdiag:\n",
    "        _scale = tfkl.Dense(tfpl.MultivariateNormalTriL.params_size(ndim) - ndim)(_x_)\n",
    "        _scale = tfp.bijectors.FillScaleTriL()(_scale)  # softplus(x+0.5413) + 1e-5 --> lower tri mat\n",
    "        make_dist_fn = lambda t: tfd.MultivariateNormalTriL(loc=t[0], scale_tril=t[1])\n",
    "    else:\n",
    "        _scale = tfkl.Dense(ndim)(_x_)\n",
    "        _scale = tf.math.softplus(_scale + np.log(np.exp(1) - 1)) + 1e-5\n",
    "        # make_dist_fn = lambda t: tfd.Independent(tfd.Normal(loc=t[0], scale=t[1]))\n",
    "        make_dist_fn = lambda t: tfd.MultivariateNormalDiag(loc=t[0], scale_diag=t[1])\n",
    "    return make_dist_fn, [_loc, _scale]"
   ]
  },
  {
   "cell_type": "code",
   "execution_count": 92,
   "metadata": {},
   "outputs": [],
   "source": [
    "K.clear_session()\n",
    "K.set_floatx('float32')\n",
    "tf.random.set_seed(RANDOM_SEED)"
   ]
  },
  {
   "cell_type": "code",
   "execution_count": 93,
   "metadata": {},
   "outputs": [],
   "source": [
    "kl_beta = K.variable(value=0.0)\n",
    "kl_beta._trainable = False\n",
    "\n",
    "def kl_beta_warmup(epoch, ramp_epochs=10):\n",
    "    new_beta_value = tf.minimum(1.0, epoch/ramp_epochs)\n",
    "    new_beta_value = new_beta_value * BATCH_SIZE  #  / N_TRIALS\n",
    "    K.set_value(kl_beta, new_beta_value)\n",
    "    \n",
    "# Add the following to the list of model.fit callbacks.\n",
    "kl_beta_cb = tf.keras.callbacks.LambdaCallback(\n",
    "    on_epoch_begin=lambda epoch, log: kl_beta_warmup(epoch, ramp_epochs=5))"
   ]
  },
  {
   "cell_type": "markdown",
   "metadata": {},
   "source": [
    "### Input\n",
    "\n",
    "When working with real data we would probably add layers to do some minimal feature extraction (e.g., temporal convolution and spatial convolution -- EEGNet-light). Here we just copy the inputs to the features tensor."
   ]
  },
  {
   "cell_type": "code",
   "execution_count": 94,
   "metadata": {},
   "outputs": [],
   "source": [
    "# Input\n",
    "_input = tfkl.Input(shape=(n_timesteps, N_SENSORS))\n",
    "\n",
    "# TODO: Basic feature extractor (aka Compressor)\n",
    "N_FEATS = N_SENSORS\n",
    "_features = _input  # _features shape: (batch, timesteps, feat_dim)"
   ]
  },
  {
   "cell_type": "code",
   "execution_count": null,
   "metadata": {},
   "outputs": [],
   "source": [
    "# Debug\n",
    "if False:\n",
    "    _input = tfkl.Input(shape=(n_timesteps, N_SENSORS))\n",
    "    _x1 = tfkl.Bidirectional(\n",
    "        tfkl.LSTM(HIDDEN_SIZE, return_sequences=False),\n",
    "        merge_mode=\"sum\")(_input)  # _x1 shape: (batch, hidden_size)\n",
    "    make_dist_fn, params = make_mvn_dist_fn(_x1, LATENT_SIZE_STATIC, offdiag=LATENT_OFFDIAG_STATIC)\n",
    "    q_f = tfpl.DistributionLambda(\n",
    "        name=\"q_f\",\n",
    "        make_distribution_fn=make_dist_fn,\n",
    "        convert_to_tensor_fn=lambda s: s.sample(NUM_SAMPLES),\n",
    "    )(params)\n",
    "    tmp_model = tf.keras.Model(inputs=_input, outputs=[q_f])\n",
    "    tmp_model(x_in).mean()"
   ]
  },
  {
   "cell_type": "markdown",
   "metadata": {},
   "source": [
    "### Encoder\n",
    "$$q(z_{1:T}, f | x_{1:T}) = q(f | x_{1:T}) q(z_{1:T} | f, x_{1:T})$$\n",
    "\n",
    "Distribution of latents $z_t$ (dynamic) and $f$ (static), conditioned on input sequence $x_t$."
   ]
  },
  {
   "cell_type": "markdown",
   "metadata": {},
   "source": [
    "##### Static Encoder (f)\n",
    "$$q(f | x_{1:T})$$\n",
    "Multivariate normal, conditioned on full sequence of features (i.e., compressed x). Features pass through bidirectional LSTM, then through affine, to yield distribution parameters."
   ]
  },
  {
   "cell_type": "code",
   "execution_count": 95,
   "metadata": {},
   "outputs": [
    {
     "name": "stdout",
     "output_type": "stream",
     "text": [
      "WARNING:tensorflow:From C:\\Users\\Chad\\.conda\\envs\\indl\\lib\\site-packages\\tensorflow_core\\python\\ops\\linalg\\linear_operator_diag.py:166: calling LinearOperator.__init__ (from tensorflow.python.ops.linalg.linear_operator) with graph_parents is deprecated and will be removed in a future version.\n",
      "Instructions for updating:\n",
      "Do not pass `graph_parents`.  They will  no longer be used.\n"
     ]
    }
   ],
   "source": [
    "_x1 = tfkl.Bidirectional(\n",
    "    tfkl.LSTM(HIDDEN_SIZE, return_sequences=False),\n",
    "    merge_mode=\"sum\")(_features)  # _x1 shape: (batch, hidden_size)\n",
    "make_dist_fn, params = make_mvn_dist_fn(_x1, LATENT_SIZE_STATIC, offdiag=LATENT_OFFDIAG_STATIC)\n",
    "q_f = tfpl.DistributionLambda(\n",
    "    name=\"q_f\",\n",
    "    make_distribution_fn=make_dist_fn,\n",
    "    convert_to_tensor_fn=lambda s: s.sample(NUM_SAMPLES),\n",
    ")(params)\n",
    "_f_sample = tf.convert_to_tensor(q_f)  # Used for KL-divergence calculation in next cell.\n",
    "\n",
    "# Both the dynamic encoder and the decoder require static samples to be repeated\n",
    "# along the time axis. Do this with broadcast-add of zeros.\n",
    "# Note that there are several tfkl layers that COULD help but they don't like distributions,\n",
    "# so we use tf operations.\n",
    "_static_sample = _f_sample[..., tf.newaxis, :] + tf.zeros([n_timesteps, 1])"
   ]
  },
  {
   "cell_type": "code",
   "execution_count": 96,
   "metadata": {},
   "outputs": [],
   "source": [
    "static_prior = make_mvn_prior(LATENT_SIZE_STATIC, trainable=True, offdiag=LATENT_OFFDIAG_STATIC)\n",
    "#static_prior = LearnableMultivariateNormalDiag(LATENT_SIZE_STATIC)()\n",
    "def get_static_loss_fn(use_exact_kl=True):\n",
    "    if use_exact_kl:\n",
    "        return lambda _, qf_out: tfd.kl_divergence(qf_out, static_prior)\n",
    "    else:\n",
    "        return lambda _, qf_out: qf_out.log_prob(_f_sample) - static_prior.log_prob(_f_sample)"
   ]
  },
  {
   "cell_type": "markdown",
   "metadata": {},
   "source": [
    "##### Dynamic Encoder ($z_t$)\n",
    "\n",
    "$q(z_t | x_{1:T}, f)$\n",
    "\n",
    "Multivariate normal distribution **at each timestep**, conditioned on $x_t$ **and $f$ (full only, not factorized)**. Features and a sample of the static latent $f$ are concatenated, passed through bidirectional LSTM (return_sequences=True), then RNN, and finally affine to yield distribution parameters."
   ]
  },
  {
   "cell_type": "code",
   "execution_count": 97,
   "metadata": {},
   "outputs": [],
   "source": [
    "# _features needs to be repeated NUM_SAMPLES on a new samples axis at axis=0.\n",
    "_x2 = _features[tf.newaxis, ...] + tf.zeros([NUM_SAMPLES, 1, 1, 1])\n",
    "# Concatenate _x2 (features) and _static_sample\n",
    "_x2 = tfkl.Concatenate()([_x2, _static_sample])  # (samples, batch, timesteps, feat_dim+latent_static)\n",
    "# Collapse samples + batch dims  -- required by LSTM\n",
    "_x2 = tf.reshape(_x2, [-1] + _x2.shape.as_list()[-2:])  # (samples*batch, T, feat+lat_stat)\n",
    "# Run _x2 through bidirectional lstm then a simple RNN,\n",
    "# then use output to parameterize distribution over latent variable z_t.\n",
    "_x2 = tfkl.Bidirectional(\n",
    "    tfkl.LSTM(HIDDEN_SIZE, return_sequences=True),\n",
    "    merge_mode=\"sum\")(_x2)\n",
    "_x2 = tfkl.SimpleRNN(HIDDEN_SIZE, return_sequences=True)(_x2)\n",
    "# Restore samples dim?\n",
    "_x2 = tf.reshape(_x2, [NUM_SAMPLES, -1, n_timesteps, HIDDEN_SIZE])\n",
    "make_dist_fn, params = make_mvn_dist_fn(_x2, LATENT_SIZE_DYNAMIC, offdiag=False)\n",
    "q_z = tfpl.DistributionLambda(\n",
    "    name=\"q_z\",\n",
    "    make_distribution_fn=make_dist_fn,\n",
    "    convert_to_tensor_fn=lambda s: s.sample(),  # just 1 sample\n",
    ")(params)\n",
    "_z_sample = tf.convert_to_tensor(q_z)"
   ]
  },
  {
   "cell_type": "code",
   "execution_count": 98,
   "metadata": {},
   "outputs": [],
   "source": [
    "from indl.model.tfp import LearnableMultivariateNormalDiagCell\n",
    "dynamic_prior = LearnableMultivariateNormalDiagCell(LATENT_SIZE_DYNAMIC, HIDDEN_SIZE)\n",
    "\n",
    "\n",
    "def sample_dynamic_prior(samples, batch_size, length, fixed=False):\n",
    "    \"\"\"Sample the dynamic latent prior.\n",
    "\n",
    "    Args:\n",
    "      samples: Number of samples to draw from the latent distribution.\n",
    "      batch_size: Number of sequences to sample.\n",
    "      length: Number of timesteps to sample for each sequence.\n",
    "      fixed: Boolean for whether or not to share the same random\n",
    "        sample across all sequences.\n",
    "\n",
    "    Returns:\n",
    "      A tuple of a sample tensor of shape [samples, batch_size, length\n",
    "      latent_size], and a MultivariateNormalDiag distribution from which\n",
    "      the tensor was sampled, with event shape [latent_size], and batch\n",
    "      shape [samples, 1, length] if fixed or [samples, batch_size,\n",
    "      length] otherwise.\n",
    "    \"\"\"\n",
    "    if fixed:\n",
    "        sample_batch_size = 1\n",
    "    else:\n",
    "        sample_batch_size = batch_size\n",
    "\n",
    "    sample, state = dynamic_prior.zero_state([samples, sample_batch_size])\n",
    "    locs = []\n",
    "    scale_diags = []\n",
    "    sample_list = []\n",
    "    for _ in range(length):\n",
    "        dist, state = dynamic_prior(sample, state)\n",
    "        sample = dist.sample()\n",
    "        locs.append(dist.parameters[\"loc\"])\n",
    "        scale_diags.append(dist.parameters[\"scale_diag\"])\n",
    "        sample_list.append(sample)\n",
    "\n",
    "    sample = tf.stack(sample_list, axis=2)\n",
    "    loc = tf.stack(locs, axis=2)\n",
    "    scale_diag = tf.stack(scale_diags, axis=2)\n",
    "\n",
    "    if fixed:  # tile along the batch axis\n",
    "        sample = sample + tf.zeros([batch_size, 1, 1])\n",
    "\n",
    "    return sample, tfd.MultivariateNormalDiag(loc=loc, scale_diag=scale_diag)"
   ]
  },
  {
   "cell_type": "code",
   "execution_count": 99,
   "metadata": {},
   "outputs": [],
   "source": [
    "def get_dynamic_loss_fn(use_exact_kl=True):\n",
    "    _, _dynamic_prior = sample_dynamic_prior(NUM_SAMPLES, BATCH_SIZE, n_timesteps)\n",
    "    if use_exact_kl:\n",
    "        def dynamic_kl_exact(_, qz_out):\n",
    "            kl = tfd.kl_divergence(qz_out, _dynamic_prior)\n",
    "            kl = tf.reduce_sum(input_tensor=kl, axis=-1)  # Sum over time\n",
    "            return kl\n",
    "        return dynamic_kl_exact\n",
    "    else:\n",
    "        def dynamic_kl_inexact(_, qz_out):\n",
    "            kl = qz_out.log_prob(_z_sample) - _dynamic_prior.log_prob(_z_sample)\n",
    "            kl = tf.reduce_sum(input_tensor=kl, axis=-1)  # Sum over time\n",
    "            return kl\n",
    "        return dynamic_kl_inexact"
   ]
  },
  {
   "cell_type": "markdown",
   "metadata": {},
   "source": [
    "#### Decoder\n",
    "\n",
    "$p(x_t | z_t, f)$\n",
    "\n",
    "The concatenation of the two latent variables z_t and f_t is fed through one hidden layer to give the base features.\n",
    "\n",
    "If we add feature extraction above, we would then undo the feature extraction to get sensor data."
   ]
  },
  {
   "cell_type": "code",
   "execution_count": 100,
   "metadata": {},
   "outputs": [
    {
     "name": "stdout",
     "output_type": "stream",
     "text": [
      "Model: \"model\"\n",
      "__________________________________________________________________________________________________\n",
      "Layer (type)                    Output Shape         Param #     Connected to                     \n",
      "==================================================================================================\n",
      "input_1 (InputLayer)            [(None, 50, 32)]     0                                            \n",
      "__________________________________________________________________________________________________\n",
      "bidirectional (Bidirectional)   (None, 12)           4320        input_1[0][0]                    \n",
      "__________________________________________________________________________________________________\n",
      "dense_1 (Dense)                 (None, 8)            104         bidirectional[0][0]              \n",
      "__________________________________________________________________________________________________\n",
      "tf_op_layer_add (TensorFlowOpLa [(None, 8)]          0           dense_1[0][0]                    \n",
      "__________________________________________________________________________________________________\n",
      "tf_op_layer_Softplus (TensorFlo [(None, 8)]          0           tf_op_layer_add[0][0]            \n",
      "__________________________________________________________________________________________________\n",
      "tf_op_layer_add_1 (TensorFlowOp [(None, 8)]          0           tf_op_layer_Softplus[0][0]       \n",
      "__________________________________________________________________________________________________\n",
      "tf_op_layer_q_f/MultivariateNor [(2,)]               0           tf_op_layer_add_1[0][0]          \n",
      "__________________________________________________________________________________________________\n",
      "tf_op_layer_q_f/MultivariateNor [()]                 0           tf_op_layer_q_f/MultivariateNorma\n",
      "__________________________________________________________________________________________________\n",
      "dense (Dense)                   (None, 8)            104         bidirectional[0][0]              \n",
      "__________________________________________________________________________________________________\n",
      "tf_op_layer_q_f/MultivariateNor [(1,)]               0           tf_op_layer_q_f/MultivariateNorma\n",
      "__________________________________________________________________________________________________\n",
      "tf_op_layer_q_f/MultivariateNor [(3,)]               0           tf_op_layer_q_f/MultivariateNorma\n",
      "                                                                 tf_op_layer_q_f/MultivariateNorma\n",
      "__________________________________________________________________________________________________\n",
      "tf_op_layer_q_f/MultivariateNor [(2,)]               0           dense[0][0]                      \n",
      "__________________________________________________________________________________________________\n",
      "tf_op_layer_q_f/MultivariateNor [(1,)]               0           tf_op_layer_q_f/MultivariateNorma\n",
      "__________________________________________________________________________________________________\n",
      "tf_op_layer_q_f/MultivariateNor [(1,)]               0           tf_op_layer_q_f/MultivariateNorma\n",
      "__________________________________________________________________________________________________\n",
      "tf_op_layer_q_f/MultivariateNor [(1,)]               0           tf_op_layer_q_f/MultivariateNorma\n",
      "                                                                 tf_op_layer_q_f/MultivariateNorma\n",
      "__________________________________________________________________________________________________\n",
      "tf_op_layer_q_f/q_f_Multivariat [(3,)]               0           tf_op_layer_q_f/MultivariateNorma\n",
      "__________________________________________________________________________________________________\n",
      "tf_op_layer_q_f/q_f_Multivariat [()]                 0           tf_op_layer_q_f/q_f_MultivariateN\n",
      "__________________________________________________________________________________________________\n",
      "tf_op_layer_q_f/q_f_Multivariat [(1,)]               0           tf_op_layer_q_f/q_f_MultivariateN\n",
      "__________________________________________________________________________________________________\n",
      "tf_op_layer_q_f/q_f_Multivariat [(1,)]               0           tf_op_layer_q_f/q_f_MultivariateN\n",
      "__________________________________________________________________________________________________\n",
      "tf_op_layer_q_f/q_f_Multivariat [(None,)]            0           tf_op_layer_q_f/q_f_MultivariateN\n",
      "__________________________________________________________________________________________________\n",
      "tf_op_layer_q_f/q_f_Multivariat [(None,)]            0           tf_op_layer_q_f/q_f_MultivariateN\n",
      "__________________________________________________________________________________________________\n",
      "tf_op_layer_q_f/q_f_Multivariat [(None,)]            0           tf_op_layer_q_f/q_f_MultivariateN\n",
      "__________________________________________________________________________________________________\n",
      "tf_op_layer_q_f/q_f_Multivariat [(None,)]            0           tf_op_layer_q_f/q_f_MultivariateN\n",
      "__________________________________________________________________________________________________\n",
      "tf_op_layer_q_f/q_f_Multivariat [(None,)]            0           tf_op_layer_q_f/q_f_MultivariateN\n",
      "__________________________________________________________________________________________________\n",
      "tf_op_layer_q_f/q_f_Multivariat [(1,)]               0           tf_op_layer_q_f/q_f_MultivariateN\n",
      "__________________________________________________________________________________________________\n",
      "tf_op_layer_q_f/q_f_Multivariat [(0,)]               0           tf_op_layer_q_f/q_f_MultivariateN\n",
      "__________________________________________________________________________________________________\n",
      "tf_op_layer_q_f/q_f_Multivariat [(3,)]               0           tf_op_layer_q_f/q_f_MultivariateN\n",
      "                                                                 tf_op_layer_q_f/q_f_MultivariateN\n",
      "__________________________________________________________________________________________________\n",
      "tf_op_layer_q_f/q_f_Multivariat [(4, None, 8)]       0           tf_op_layer_q_f/q_f_MultivariateN\n",
      "                                                                 tf_op_layer_q_f/q_f_MultivariateN\n",
      "__________________________________________________________________________________________________\n",
      "tf_op_layer_q_f/q_f_Multivariat [(3,)]               0           tf_op_layer_q_f/q_f_MultivariateN\n",
      "__________________________________________________________________________________________________\n",
      "tf_op_layer_q_f/q_f_Multivariat [(2,)]               0           tf_op_layer_q_f/q_f_MultivariateN\n",
      "__________________________________________________________________________________________________\n",
      "tf_op_layer_q_f/q_f_Multivariat [(3,)]               0           tf_op_layer_q_f/q_f_MultivariateN\n",
      "__________________________________________________________________________________________________\n",
      "tf_op_layer_q_f/q_f_Multivariat [(4, None, 8)]       0           tf_op_layer_q_f/q_f_MultivariateN\n",
      "                                                                 tf_op_layer_q_f/q_f_MultivariateN\n",
      "__________________________________________________________________________________________________\n",
      "tf_op_layer_q_f/q_f_Multivariat [(4, None, 8)]       0           tf_op_layer_add_1[0][0]          \n",
      "                                                                 tf_op_layer_q_f/q_f_MultivariateN\n",
      "__________________________________________________________________________________________________\n",
      "tf_op_layer_q_f/q_f_Multivariat [(4, None, 8)]       0           tf_op_layer_q_f/q_f_MultivariateN\n",
      "                                                                 dense[0][0]                      \n",
      "__________________________________________________________________________________________________\n",
      "tf_op_layer_strided_slice_1 (Te [(1, None, 50, 32)]  0           input_1[0][0]                    \n",
      "__________________________________________________________________________________________________\n",
      "tf_op_layer_strided_slice (Tens [(4, None, 1, 8)]    0           tf_op_layer_q_f/q_f_MultivariateN\n",
      "__________________________________________________________________________________________________\n",
      "tf_op_layer_add_3 (TensorFlowOp [(4, None, 50, 32)]  0           tf_op_layer_strided_slice_1[0][0]\n",
      "__________________________________________________________________________________________________\n",
      "tf_op_layer_add_2 (TensorFlowOp [(4, None, 50, 8)]   0           tf_op_layer_strided_slice[0][0]  \n",
      "__________________________________________________________________________________________________\n",
      "concatenate (Concatenate)       (4, None, 50, 40)    0           tf_op_layer_add_3[0][0]          \n",
      "                                                                 tf_op_layer_add_2[0][0]          \n",
      "__________________________________________________________________________________________________\n",
      "tf_op_layer_Reshape (TensorFlow [(None, 50, 40)]     0           concatenate[0][0]                \n",
      "__________________________________________________________________________________________________\n",
      "bidirectional_1 (Bidirectional) (None, 50, 12)       5088        tf_op_layer_Reshape[0][0]        \n",
      "__________________________________________________________________________________________________\n",
      "simple_rnn (SimpleRNN)          (None, 50, 12)       300         bidirectional_1[0][0]            \n",
      "__________________________________________________________________________________________________\n",
      "tf_op_layer_Reshape_1 (TensorFl [(4, None, 50, 12)]  0           simple_rnn[0][0]                 \n",
      "__________________________________________________________________________________________________\n",
      "dense_3 (Dense)                 (4, None, 50, 4)     52          tf_op_layer_Reshape_1[0][0]      \n",
      "__________________________________________________________________________________________________\n",
      "tf_op_layer_add_4 (TensorFlowOp [(4, None, 50, 4)]   0           dense_3[0][0]                    \n",
      "__________________________________________________________________________________________________\n",
      "tf_op_layer_Softplus_1 (TensorF [(4, None, 50, 4)]   0           tf_op_layer_add_4[0][0]          \n",
      "__________________________________________________________________________________________________\n",
      "tf_op_layer_add_5 (TensorFlowOp [(4, None, 50, 4)]   0           tf_op_layer_Softplus_1[0][0]     \n",
      "__________________________________________________________________________________________________\n",
      "tf_op_layer_q_z/MultivariateNor [(4,)]               0           tf_op_layer_add_5[0][0]          \n",
      "__________________________________________________________________________________________________\n",
      "tf_op_layer_q_z/MultivariateNor [()]                 0           tf_op_layer_q_z/MultivariateNorma\n",
      "__________________________________________________________________________________________________\n",
      "dense_2 (Dense)                 (4, None, 50, 4)     52          tf_op_layer_Reshape_1[0][0]      \n",
      "__________________________________________________________________________________________________\n",
      "tf_op_layer_q_z/MultivariateNor [(1,)]               0           tf_op_layer_q_z/MultivariateNorma\n",
      "__________________________________________________________________________________________________\n",
      "tf_op_layer_q_z/MultivariateNor [(5,)]               0           tf_op_layer_q_z/MultivariateNorma\n",
      "                                                                 tf_op_layer_q_z/MultivariateNorma\n",
      "__________________________________________________________________________________________________\n",
      "tf_op_layer_q_z/MultivariateNor [(4,)]               0           dense_2[0][0]                    \n",
      "__________________________________________________________________________________________________\n",
      "tf_op_layer_q_z/MultivariateNor [(3,)]               0           tf_op_layer_q_z/MultivariateNorma\n",
      "__________________________________________________________________________________________________\n",
      "tf_op_layer_q_z/MultivariateNor [(3,)]               0           tf_op_layer_q_z/MultivariateNorma\n",
      "__________________________________________________________________________________________________\n",
      "tf_op_layer_q_z/MultivariateNor [(3,)]               0           tf_op_layer_q_z/MultivariateNorma\n",
      "                                                                 tf_op_layer_q_z/MultivariateNorma\n",
      "__________________________________________________________________________________________________\n",
      "tf_op_layer_q_z/q_z_Multivariat [(5,)]               0           tf_op_layer_q_z/MultivariateNorma\n",
      "__________________________________________________________________________________________________\n",
      "tf_op_layer_q_z/q_z_Multivariat [()]                 0           tf_op_layer_q_z/q_z_MultivariateN\n",
      "__________________________________________________________________________________________________\n",
      "tf_op_layer_q_z/q_z_Multivariat [(1,)]               0           tf_op_layer_q_z/q_z_MultivariateN\n",
      "__________________________________________________________________________________________________\n",
      "tf_op_layer_q_z/q_z_Multivariat [(1,)]               0           tf_op_layer_q_z/q_z_MultivariateN\n",
      "__________________________________________________________________________________________________\n",
      "tf_op_layer_q_z/q_z_Multivariat [(None,)]            0           tf_op_layer_q_z/q_z_MultivariateN\n",
      "__________________________________________________________________________________________________\n",
      "tf_op_layer_q_z/q_z_Multivariat [(None,)]            0           tf_op_layer_q_z/q_z_MultivariateN\n",
      "__________________________________________________________________________________________________\n",
      "tf_op_layer_q_z/q_z_Multivariat [(None,)]            0           tf_op_layer_q_z/q_z_MultivariateN\n",
      "__________________________________________________________________________________________________\n",
      "tf_op_layer_q_z/q_z_Multivariat [(None,)]            0           tf_op_layer_q_z/q_z_MultivariateN\n",
      "__________________________________________________________________________________________________\n",
      "tf_op_layer_q_z/q_z_Multivariat [(None,)]            0           tf_op_layer_q_z/q_z_MultivariateN\n",
      "__________________________________________________________________________________________________\n",
      "tf_op_layer_q_z/q_z_Multivariat [(1,)]               0           tf_op_layer_q_z/q_z_MultivariateN\n",
      "__________________________________________________________________________________________________\n",
      "tf_op_layer_q_z/q_z_Multivariat [(0,)]               0           tf_op_layer_q_z/q_z_MultivariateN\n",
      "__________________________________________________________________________________________________\n",
      "tf_op_layer_q_z/q_z_Multivariat [(5,)]               0           tf_op_layer_q_z/q_z_MultivariateN\n",
      "                                                                 tf_op_layer_q_z/q_z_MultivariateN\n",
      "__________________________________________________________________________________________________\n",
      "tf_op_layer_q_z/q_z_Multivariat [(1, None, None, Non 0           tf_op_layer_q_z/q_z_MultivariateN\n",
      "                                                                 tf_op_layer_q_z/q_z_MultivariateN\n",
      "__________________________________________________________________________________________________\n",
      "tf_op_layer_q_z/q_z_Multivariat [(5,)]               0           tf_op_layer_q_z/q_z_MultivariateN\n",
      "__________________________________________________________________________________________________\n",
      "tf_op_layer_q_z/q_z_Multivariat [(4,)]               0           tf_op_layer_q_z/q_z_MultivariateN\n",
      "__________________________________________________________________________________________________\n",
      "tf_op_layer_q_z/q_z_Multivariat [(4,)]               0           tf_op_layer_q_z/q_z_MultivariateN\n",
      "__________________________________________________________________________________________________\n",
      "tf_op_layer_q_z/q_z_Multivariat [(None, None, None,  0           tf_op_layer_q_z/q_z_MultivariateN\n",
      "                                                                 tf_op_layer_q_z/q_z_MultivariateN\n",
      "__________________________________________________________________________________________________\n",
      "tf_op_layer_q_z/q_z_Multivariat [(4, None, 50, 4)]   0           tf_op_layer_add_5[0][0]          \n",
      "                                                                 tf_op_layer_q_z/q_z_MultivariateN\n",
      "__________________________________________________________________________________________________\n",
      "tf_op_layer_q_z/q_z_Multivariat [(4, None, 50, 4)]   0           tf_op_layer_q_z/q_z_MultivariateN\n",
      "                                                                 dense_2[0][0]                    \n",
      "__________________________________________________________________________________________________\n",
      "concatenate_1 (Concatenate)     (4, None, 50, 12)    0           tf_op_layer_q_z/q_z_MultivariateN\n",
      "                                                                 tf_op_layer_add_2[0][0]          \n",
      "__________________________________________________________________________________________________\n",
      "dense_5 (Dense)                 (4, None, 50, 32)    416         concatenate_1[0][0]              \n",
      "__________________________________________________________________________________________________\n",
      "q_f (DistributionLambda)        ((4, None, 8), (4, N 0           dense[0][0]                      \n",
      "                                                                 tf_op_layer_add_1[0][0]          \n",
      "__________________________________________________________________________________________________\n",
      "q_z (DistributionLambda)        ((4, None, 50, 4), ( 0           dense_2[0][0]                    \n",
      "                                                                 tf_op_layer_add_5[0][0]          \n",
      "__________________________________________________________________________________________________\n",
      "p_full (DistributionLambda)     ((4, None, 50, 32),  0           dense_5[0][0]                    \n",
      "==================================================================================================\n",
      "Total params: 10,436\n",
      "Trainable params: 10,436\n",
      "Non-trainable params: 0\n",
      "__________________________________________________________________________________________________\n"
     ]
    }
   ],
   "source": [
    "OUTPUT_OFFDIAG = False\n",
    "\n",
    "# _y = tf.concat([_z_sample, _static_sample], axis=-1)\n",
    "_y = tfkl.Concatenate()([_z_sample, _static_sample])  # (samp, batch, T, lat_dyn + lat_stat)\n",
    "_y = tfkl.Dense(N_FEATS, activation=tf.nn.tanh)(_y)  # (samp, batch, T, N_FEATS)\n",
    "# TODO: Inverse feature extraction (presently N/A). Would need different activation above.\n",
    "# Make output distribution - Use constant scale = 1.; make_mvn_dist_fn is unnecessary.\n",
    "make_dist_fn = lambda t: tfd.Independent(distribution=tfd.Normal(loc=t, scale=1.),\n",
    "                                         reinterpreted_batch_ndims=2)\n",
    "p_full = tfpl.DistributionLambda(\n",
    "    make_distribution_fn=make_dist_fn,\n",
    "    name=\"p_full\"\n",
    ")(_y)\n",
    "\n",
    "dvae_model = tf.keras.Model(inputs=_input, outputs=[q_f, q_z, p_full])\n",
    "dvae_model.summary()\n",
    "# tf.keras.utils.plot_model(vae_model)"
   ]
  },
  {
   "cell_type": "code",
   "execution_count": 101,
   "metadata": {},
   "outputs": [
    {
     "name": "stdout",
     "output_type": "stream",
     "text": [
      "tf.Tensor(2972.5967, shape=(), dtype=float32) (<tf.Tensor: shape=(), dtype=float32, numpy=0.91664845>, <tf.Tensor: shape=(), dtype=float32, numpy=115.78488>)\n"
     ]
    }
   ],
   "source": [
    "# https://github.com/tensorflow/probability/blob/master/tensorflow_probability/examples/disentangled_vae.py#L1126\n",
    "# https://www.tensorflow.org/tutorials/customization/custom_training_walkthrough#train_the_model\n",
    "@tf.function\n",
    "def grad(model, inputs):\n",
    "    with tf.GradientTape() as tape:\n",
    "        _q_f, _q_z, _p_full = model(inputs, training=True)\n",
    "        \n",
    "        # Reconstruction log-likelihood: p(output|input)\n",
    "        recon_post_log_prob = _p_full.log_prob(inputs)\n",
    "        recon_post_log_prob = tf.reduce_mean(recon_post_log_prob, axis=0)  # avg over NSAMPLES\n",
    "        \n",
    "        # KL Divergence - static\n",
    "        manual_kl_static = tfd.kl_divergence(_q_f, static_prior)\n",
    "        \n",
    "        # KL Divergence - dynamic\n",
    "        _, _dynamic_prior = sample_dynamic_prior(NUM_SAMPLES, BATCH_SIZE, n_timesteps)\n",
    "        manual_kl_dynamic = tfd.kl_divergence(_q_z, _dynamic_prior)\n",
    "        manual_kl_dynamic = tf.reduce_sum(input_tensor=manual_kl_dynamic, axis=-1)  # Sum over time\n",
    "        manual_kl_dynamic = tf.reduce_mean(manual_kl_dynamic, axis=0)  # avg over NSAMPLES\n",
    "        \n",
    "        elbo = recon_post_log_prob - kl_beta * manual_kl_static - kl_beta * manual_kl_dynamic\n",
    "        loss = -tf.reduce_mean(elbo)\n",
    "        if False:  # Only works when no @tf.function\n",
    "            print(f\"recon_post_log_prob: {recon_post_log_prob}\")\n",
    "            print(f\"manual kl static: {kl_beta} * {manual_kl_static}\")\n",
    "            print(f\"manual kl dynamic: {kl_beta} * {manual_kl_dynamic}\")\n",
    "            # calc_kl = encoder_model.get_layer(name=\"latents\").losses\n",
    "            # print(f\"model.losses: {model.losses}\")\n",
    "            print(\"\\n\")\n",
    "            \n",
    "    grads = tape.gradient(loss, model.trainable_variables)\n",
    "    return loss, grads, (tf.reduce_mean(manual_kl_static), tf.reduce_mean(manual_kl_dynamic))\n",
    "\n",
    "if True:\n",
    "    # Some debug code\n",
    "    epoch_ix = 10\n",
    "    kl_beta_warmup(epoch_ix)\n",
    "    x_in = list(ae_dataset.as_numpy_iterator())[0][0]\n",
    "    loss, grads, _others = grad(dvae_model, x_in)\n",
    "    print(loss, _others)\n",
    "elif True:\n",
    "    optim = tf.keras.optimizers.Adam(learning_rate=1e-3)\n",
    "    for epoch_ix in range(N_EPOCHS):\n",
    "        kl_beta_warmup(epoch_ix)\n",
    "        for step_ix, (x_in, _) in enumerate(ae_dataset):\n",
    "            loss, grads, others = grad(dvae_model, x_in)\n",
    "            optim.apply_gradients(zip(grads, dvae_model.trainable_variables))\n",
    "            if (step_ix % 200) == 0:\n",
    "                print('.')\n",
    "        print(f\"Epoch {epoch_ix}/{N_EPOCHS}:\\tloss={loss:.3f};\"\n",
    "              f\"\\tkl={kl_beta.numpy():.3f} * ({others[0]:.3f} + {others[1]:.3f})\")"
   ]
  },
  {
   "cell_type": "code",
   "execution_count": null,
   "metadata": {
    "scrolled": true
   },
   "outputs": [],
   "source": [
    "optim = tf.keras.optimizers.Adam(learning_rate=1e-3)\n",
    "dvae_model.compile(optimizer=optim,\n",
    "                   loss=[get_static_loss_fn(),\n",
    "                         get_dynamic_loss_fn(),\n",
    "                         lambda x_true, model_out: -model_out.log_prob(x_true)],\n",
    "                   loss_weights=[kl_beta, kl_beta, 1.0])\n",
    "history = dvae_model.fit(ae_dataset,\n",
    "                         epochs=N_EPOCHS,\n",
    "                         callbacks=[kl_beta_cb],\n",
    "                         verbose=1)"
   ]
  },
  {
   "cell_type": "code",
   "execution_count": null,
   "metadata": {},
   "outputs": [],
   "source": [
    "plt.figure(figsize=(8, 8))\n",
    "\n",
    "trial_ix = 10\n",
    "test_X = X[trial_ix, :, :].astype(np.float32)[None, ...]\n",
    "recon_X = np.mean(vae_model(test_X)[1].mean().numpy(), axis=0)\n",
    "    \n",
    "for chan_ix, chan_idx in enumerate([0, 1, 2, 15, 16, 17, 28, 29, 30]):\n",
    "    plt.subplot(3, 3, chan_ix + 1)\n",
    "    plt.plot(tvec, test_X[0, :, chan_idx], label=\"Input\")\n",
    "    plt.plot(tvec, recon_X[0, :, chan_idx], label=\"Recon\")\n",
    "    plt.title(f\"Sensor {chan_idx}\")\n",
    "    if chan_ix == 0:\n",
    "        plt.legend()\n",
    "\n",
    "plt.tight_layout()\n",
    "plt.show()"
   ]
  },
  {
   "cell_type": "markdown",
   "metadata": {},
   "source": [
    "### Visualize Latents\n",
    "\n",
    "Start by visualizing the per-class latent distributions for each pair of latent variables.\n"
   ]
  },
  {
   "cell_type": "code",
   "execution_count": null,
   "metadata": {},
   "outputs": [],
   "source": [
    "# Scatter plot per class\n",
    "plot_range = [-2.0, 2.0]\n",
    "fig = plt.figure(figsize=[8, 6], tight_layout=True)\n",
    "axes = fig.subplots(2, 3)\n",
    "\n",
    "for class_id in np.unique(Y):\n",
    "    b_class = Y == class_id\n",
    "    lat_dist = vae_model(X[b_class].astype(np.float32))[0]\n",
    "    lat_dist = lat_dist.mean().numpy()\n",
    "    for pair_ix, dim_pair in enumerate([[0, 1], [0, 2], [0, 3],\n",
    "                                        [1, 2], [1, 3], [2, 3]]):\n",
    "        row_ix = pair_ix // 3\n",
    "        col_ix = pair_ix % 3\n",
    "        axes[row_ix, col_ix].scatter(lat_dist[:, dim_pair[0]], lat_dist[:, dim_pair[1]])\n",
    "        axes[row_ix, col_ix].set_xlim(plot_range)\n",
    "        axes[row_ix, col_ix].set_ylim(plot_range)"
   ]
  }
 ],
 "metadata": {
  "kernelspec": {
   "display_name": "Python 3",
   "language": "python",
   "name": "python3"
  },
  "language_info": {
   "codemirror_mode": {
    "name": "ipython",
    "version": 3
   },
   "file_extension": ".py",
   "mimetype": "text/x-python",
   "name": "python",
   "nbconvert_exporter": "python",
   "pygments_lexer": "ipython3",
   "version": "3.7.6"
  },
  "nteract": {
   "version": "nteract-on-jupyter@2.1.3"
  },
  "pycharm": {
   "stem_cell": {
    "cell_type": "raw",
    "metadata": {
     "collapsed": false
    },
    "source": []
   }
  },
  "varInspector": {
   "cols": {
    "lenName": 16,
    "lenType": 16,
    "lenVar": 40
   },
   "kernels_config": {
    "python": {
     "delete_cmd_postfix": "",
     "delete_cmd_prefix": "del ",
     "library": "var_list.py",
     "varRefreshCmd": "print(var_dic_list())"
    },
    "r": {
     "delete_cmd_postfix": ") ",
     "delete_cmd_prefix": "rm(",
     "library": "var_list.r",
     "varRefreshCmd": "cat(var_dic_list()) "
    }
   },
   "types_to_exclude": [
    "module",
    "function",
    "builtin_function_or_method",
    "instance",
    "_Feature"
   ],
   "window_display": false
  }
 },
 "nbformat": 4,
 "nbformat_minor": 2
}
