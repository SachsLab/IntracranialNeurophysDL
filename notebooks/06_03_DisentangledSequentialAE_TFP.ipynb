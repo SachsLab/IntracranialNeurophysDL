{
 "cells": [
  {
   "cell_type": "markdown",
   "metadata": {},
   "source": [
    "#  Disentangled Sequential Variational Autoencoder using Tensorflow Probability"
   ]
  },
  {
   "cell_type": "markdown",
   "metadata": {},
   "source": [
    "## Introduction\n",
    "\n",
    "> This notebook is in very early stages of development and is not ready for public consumption.\n",
    "When it is complete...\n",
    "\n",
    "### Definition\n",
    "\n",
    "Here we develop and test a disentangled sequential variational autoencoder. Let's break that down.\n",
    "\n",
    "An **autoencoder** first encodes an input into a low-dimensional latent representation (a.k.a. compress, bottleneck), and from there decodes (a.k.a. generates) an output that resembles the input.\n",
    "\n",
    "As our input is a multidimensional timeseries or sequence, and we use sequence-based methods like recurrent LSTM, this is called a **sequential autoencoder**.\n",
    "\n",
    "As the inputs to the decoder are not deterministic variables, but are prescribed to be random variables (typically gaussian), this is called **variational**.\n",
    "\n",
    "Finally, the training is designed so that the model learns to encode a latent representation that is split into features that **disentangle** time-dependent features (dynamics) and static features (content / context). Note that disentangled auto-encoders are by necessity variational, so we could drop the implied \"variational\" from our title. Alternatively, the disentanglement is often parameterized by a $\\beta$ , so this could also be called a $\\beta$-VAE.\n",
    "\n",
    "### Application\n",
    "\n",
    "An autoencoder can be trained in a self-supervised manner. That is, we don't need to care about the data labels to train it. This is greate because labeling data is often the most difficult part about getting training data.\n",
    "\n",
    "Once trained, there are several applications for such a model.\n",
    "\n",
    "The decoder part of the model is generative: we can provide an initial condition and then generate a realistic signal. For brain signals, this might be a useful tool to understand the model. In other domains, this can be used to generate animations / audio / video with e.g. the same movements, but the characteristics of the object changes.\n",
    "\n",
    "The encoder part of the model takes a real input and compresses it to a meaningful latent representation. We know it is meaningful because it is sufficient to generate the input. These latent feature vectors are much more tractable as inputs into a simple decoder. Thus, the autoencoder can first be trained using all unlabeled data, then the encoder part can be transferred as the top layers of a new classification model that is further trained on a smaller labeled data set.\n",
    "\n",
    "### Resources\n",
    "\n",
    "[Li and Mandt, ICML 2018](https://arxiv.org/pdf/1803.02991.pdf)\n",
    "\n",
    "[TF Probability examples](https://github.com/tensorflow/probability/blob/master/tensorflow_probability/examples/disentangled_vae.py)"
   ]
  },
  {
   "cell_type": "markdown",
   "metadata": {},
   "source": [
    "## Prepare Notebook"
   ]
  },
  {
   "cell_type": "code",
   "execution_count": 1,
   "metadata": {},
   "outputs": [],
   "source": [
    "%load_ext autoreload\n",
    "%autoreload 2"
   ]
  },
  {
   "cell_type": "code",
   "execution_count": 2,
   "metadata": {},
   "outputs": [],
   "source": [
    "from pathlib import Path\n",
    "import os\n",
    "import sys\n",
    "\n",
    "\n",
    "try:\n",
    "    # See if we are running on google.colab\n",
    "    from google.colab import files\n",
    "    %tensorflow_version 2.x\n",
    "    os.chdir('..')\n",
    "    \n",
    "    if not (Path.home() / '.kaggle').is_dir():\n",
    "        # Configure kaggle\n",
    "        uploaded = files.upload()  # Find the kaggle.json file in your ~/.kaggle directory.\n",
    "        if 'kaggle.json' in uploaded.keys():\n",
    "            !mkdir -p ~/.kaggle\n",
    "            !mv kaggle.json ~/.kaggle/\n",
    "            !chmod 600 ~/.kaggle/kaggle.json\n",
    "\n",
    "    if Path.cwd().stem != 'IntracranialNeurophysDL':\n",
    "        if not (Path.cwd() / 'IntracranialNeurophysDL').is_dir():\n",
    "            # Download the workshop repo and change to its directory\n",
    "            !git clone --recursive https://github.com/SachsLab/IntracranialNeurophysDL.git\n",
    "        os.chdir('IntracranialNeurophysDL')\n",
    "        \n",
    "    !pip install git+https://github.com/SachsLab/indl.git\n",
    "    !pip install -q kaggle\n",
    "    IN_COLAB = True\n",
    "\n",
    "except ModuleNotFoundError:\n",
    "    IN_COLAB = False\n",
    "    import sys\n",
    "    if Path.cwd().stem == 'notebooks':\n",
    "        os.chdir(Path.cwd().parent)\n",
    "    # Make sure the kaggle executable is on the PATH\n",
    "    os.environ['PATH'] = os.environ['PATH'] + ';' + str(Path(sys.executable).parent / 'Scripts')\n",
    "\n",
    "# Try to clear any logs from previous runs\n",
    "if (Path.cwd() / 'logs').is_dir():\n",
    "    import shutil\n",
    "    try:\n",
    "        shutil.rmtree(str(Path.cwd() / 'logs'))\n",
    "    except PermissionError:\n",
    "        print(\"Unable to remove logs directory.\")"
   ]
  },
  {
   "cell_type": "code",
   "execution_count": 9,
   "metadata": {},
   "outputs": [],
   "source": [
    "import numpy as np\n",
    "import random\n",
    "import matplotlib.pyplot as plt\n",
    "import tensorflow as tf\n",
    "import tensorflow_probability as tfp\n",
    "import tensorflow.keras.layers as tfkl\n",
    "tfd = tfp.distributions\n",
    "tfpl = tfp.layers"
   ]
  },
  {
   "cell_type": "code",
   "execution_count": 4,
   "metadata": {},
   "outputs": [],
   "source": [
    "if IN_COLAB:\n",
    "    plt.style.use('dark_background')\n",
    "plt.rcParams.update({\n",
    "    'axes.titlesize': 24,\n",
    "    'axes.labelsize': 20,\n",
    "    'lines.linewidth': 2,\n",
    "    'lines.markersize': 5,\n",
    "    'xtick.labelsize': 16,\n",
    "    'ytick.labelsize': 16,\n",
    "    'legend.fontsize': 18,\n",
    "    'figure.figsize': (6.4, 6.4)\n",
    "})"
   ]
  },
  {
   "cell_type": "markdown",
   "metadata": {},
   "source": [
    "## Prepare Data\n",
    "\n",
    "While I'm figuring this out, I'll use a contrived dataset. Let's assume that we have 4 different latent variables. Each latent variable evolves over time. The evolution over time is described by the combination of 3 functions: minimum-jerk velocity, sigmoid, and sinusoid. The mixing of the functions depends on the trial label, of which there are 5 distinct labels. The evolved latent variables are then mixed to yield 32 sensor-space signals, using a static mixing matrix."
   ]
  },
  {
   "cell_type": "code",
   "execution_count": 48,
   "metadata": {},
   "outputs": [],
   "source": [
    "N_LATENTS = 4\n",
    "N_SENSORS = 32\n",
    "FS = 64\n",
    "DURATION = 2  # seconds\n",
    "n_timesteps = int(DURATION * FS)\n",
    "N_CONDITIONS = 5\n",
    "\n",
    "np.random.seed(0)\n",
    "mix_mat = np.random.randn(N_LATENTS, N_SENSORS)\n",
    "func_mix = np.random.randn(N_CONDITIONS)"
   ]
  },
  {
   "cell_type": "code",
   "execution_count": 55,
   "metadata": {},
   "outputs": [
    {
     "data": {
      "text/plain": [
       "[<matplotlib.lines.Line2D at 0x281f6588128>]"
      ]
     },
     "execution_count": 55,
     "metadata": {},
     "output_type": "execute_result"
    },
    {
     "data": {
      "image/png": "[encoded data removed]",
      "text/plain": [
       "<Figure size 460.8x460.8 with 1 Axes>"
      ]
     },
     "metadata": {
      "needs_background": "light"
     },
     "output_type": "display_data"
    }
   ],
   "source": [
    "# TODO: Put in indl\n",
    "def sigmoid(x, A=0, K=1, C=1, Q=1, B=1, v=1, x_offset=0.5):\n",
    "    return A + (K - A) / ((C + Q * np.exp(-B*(x - x_offset)))**(1/v))\n",
    "\n",
    "x = np.arange(100) / 50\n",
    "y = sigmoid(x, B=5, x_offset=1.0)\n",
    "plt.plot(x, y)"
   ]
  },
  {
   "cell_type": "code",
   "execution_count": 54,
   "metadata": {},
   "outputs": [
    {
     "data": {
      "text/plain": [
       "[<matplotlib.lines.Line2D at 0x281f652a710>]"
      ]
     },
     "execution_count": 54,
     "metadata": {},
     "output_type": "execute_result"
    },
    {
     "data": {
      "image/png": "[encoded data removed]",
      "text/plain": [
       "<Figure size 460.8x460.8 with 1 Axes>"
      ]
     },
     "metadata": {
      "needs_background": "light"
     },
     "output_type": "display_data"
    }
   ],
   "source": [
    "# https://storage.googleapis.com/wzukusers/user-31382847/documents/5a7253343814f4Iv6Hnt/minimumjerk.pdf\n",
    "# TODO: Clean this up and provide docstrings for the parameters, then put it in indl.\n",
    "def minimumJerk(t, duration, xi, xf, degree=1):\n",
    "    \n",
    "    t_d = t / duration\n",
    "\n",
    "    if degree not in [1, 2]:\n",
    "        # Default - no derivative\n",
    "        # output = xi + (xf - xi) .* (10*(t_d.^3) - 15*(t_d.^4) + 6*(t_d.^5));\n",
    "        k0 = xi\n",
    "        x1 = 10 * t_d**3\n",
    "        x2 = -15 * t_d**4\n",
    "        x3 = 6 * t_d**5\n",
    "    elif degree == 1:\n",
    "        # Velocity\n",
    "        k0 = 0\n",
    "        x1 = 30 * t_d**2\n",
    "        x2 = -60 * t_d**3\n",
    "        x3 = 30 * t_d**4\n",
    "    elif degree == 2:\n",
    "        # Acceleration\n",
    "        k0 = 0\n",
    "        x1 = 60 * t_d\n",
    "        x2 = -180 * t_d**2\n",
    "        x3 = 120 * t_d**3\n",
    "\n",
    "    return k0 + (xf - xi) * (x1 + x2 + x3)\n",
    "\n",
    "y = minimumJerk(x, DURATION, 0.0, 1.0)\n",
    "plt.plot(x, y)"
   ]
  }
 ],
 "metadata": {
  "kernelspec": {
   "display_name": "Python 3",
   "language": "python",
   "name": "python3"
  },
  "language_info": {
   "codemirror_mode": {
    "name": "ipython",
    "version": 3
   },
   "file_extension": ".py",
   "mimetype": "text/x-python",
   "name": "python",
   "nbconvert_exporter": "python",
   "pygments_lexer": "ipython3",
   "version": "3.6.7"
  }
 },
 "nbformat": 4,
 "nbformat_minor": 2
}
