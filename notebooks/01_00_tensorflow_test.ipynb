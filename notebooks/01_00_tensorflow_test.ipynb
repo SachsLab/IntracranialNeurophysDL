{
 "cells": [
  {
   "cell_type": "markdown",
   "metadata": {},
   "source": [
    "# Introduction\n",
    "\n",
    "This notebook is meant to test that you have all the components you need to run\n",
    "through the workshop notebooks. It is based on a Kaggle dataset and a Kaggle Kernel\n",
    "found [here](https://www.kaggle.com/uysimty/keras-cnn-dog-or-cat-classification).\n",
    "\n",
    "Create a Kaggle account if you don't already have one, then download your Kaggle API key.\n",
    "Info on how to get your api key (kaggle.json) [here](https://github.com/Kaggle/kaggle-api#api-credentials)\n",
    "Place the kaggle.json file in the correct directory (~/.kaggle).\n",
    "\n",
    "Go to the dogs-and-cats competition and accept the rules [here](https://www.kaggle.com/c/dogs-vs-cats/rules).\n",
    "\n",
    "Run the next cell to initialize the Kaggle API.\n",
    "If you are running on google colab, then you'll be presented\n",
    "with a widget. Use it to browse to the kaggle.json file.\n",
    "(Note: You might have to show hidden files/folders in the file browser)\n",
    "\n",
    "<table class=\"tfo-notebook-buttons\" align=\"left\">\n",
    "  <td>\n",
    "    <a target=\"_blank\" href=\"https://colab.research.google.com/github/SachsLab/IntracranialNeurophysDL/blob/master/notebooks/01_00_tensorflow_test.ipynb\"><img src=\"https://www.tensorflow.org/images/colab_logo_32px.png\" />Run in Google Colab</a>\n",
    "  </td>\n",
    "  <td>\n",
    "    <a target=\"_blank\" href=\"https://github.com/SachsLab/IntracranialNeurophysDL/blob/master/notebooks/01_00_tensorflow_test.ipynb\"><img src=\"https://www.tensorflow.org/images/GitHub-Mark-32px.png\" />View source on GitHub</a>\n",
    "  </td>\n",
    "</table>"
   ]
  },
  {
   "cell_type": "code",
   "execution_count": null,
   "metadata": {
    "pycharm": {
     "is_executing": false
    }
   },
   "outputs": [],
   "source": [
    "# This cell normalizes Google Colab and local environments.\n",
    "from pathlib import Path\n",
    "import os\n",
    "try:\n",
    "    # See if we are running on google.colab\n",
    "    from google.colab import files\n",
    "    os.chdir('..')\n",
    "    if not (Path.cwd() / '.kaggle').is_dir():\n",
    "        # Configure kaggle\n",
    "        files.upload()  # Find the kaggle.json file in your ~/.kaggle directory.\n",
    "        !pip install -q kaggle\n",
    "        !mkdir -p ~/.kaggle\n",
    "        !mv kaggle.json ~/.kaggle/\n",
    "        !chmod 600 ~/.kaggle/kaggle.json\n",
    "    if not (Path.cwd() / 'repo').is_dir():\n",
    "        # Download the workshop repo and change to its directory\n",
    "        # For now edit the username/password. This requirement will be removed when the repo is made public.\n",
    "        !git clone https://github.com/SachsLab/IntracranialNeurophysDL.git\n",
    "        os.chdir('IntracranialNeurophysDL')\n",
    "    IN_COLAB = True\n",
    "except ModuleNotFoundError:\n",
    "    import sys\n",
    "    if Path.cwd().stem == 'notebooks':\n",
    "        os.chdir(Path.cwd().parent)\n",
    "    # Make sure the kaggle executable is on the PATH\n",
    "    os.environ['PATH'] = os.environ['PATH'] + ';' + str(Path(sys.executable).parent / 'Scripts')\n",
    "    IN_COLAB = False\n",
    "    \n",
    "import matplotlib.pyplot as plt\n",
    "plt.style.use(['dark_background', 'presentation'])"
   ]
  },
  {
   "cell_type": "markdown",
   "metadata": {},
   "source": [
    "## Download Data\n",
    "\n",
    "If you're running from PyCharm then you may prefer to download it manually in a\n",
    "terminal/shell/Anaconda prompt because there is no visual feedback in PyCharm (should change in 2019.2)."
   ]
  },
  {
   "cell_type": "code",
   "execution_count": null,
   "metadata": {
    "pycharm": {
     "is_executing": true,
     "name": "#%%\n"
    }
   },
   "outputs": [],
   "source": [
    "datadir = Path.cwd() / 'data' / 'dogscats'\n",
    "if not (datadir / 'train').is_dir():\n",
    "    !kaggle competitions download -c dogs-vs-cats\n",
    "    print(\"Finished downloading data.\")\n",
    "    import zipfile\n",
    "    for fn in ['train', 'test1']:\n",
    "        fpath = Path(fn + '.zip')\n",
    "        with zipfile.ZipFile(fpath, 'r') as zip_ref:\n",
    "            zip_ref.extractall(Path.cwd() / 'data' / 'dogscats')\n",
    "        fpath.unlink()\n",
    "    print(\"Finished unzipping extracting data.\")\n",
    "else:\n",
    "    print(\"Data directory exists. Skipping download.\")"
   ]
  },
  {
   "cell_type": "markdown",
   "metadata": {},
   "source": [
    "# Prepare Training Data"
   ]
  },
  {
   "cell_type": "code",
   "execution_count": null,
   "metadata": {},
   "outputs": [],
   "source": [
    "import pandas as pd\n",
    "\n",
    "\n",
    "train_path = Path.cwd() / 'data' / 'dogscats' / 'train'\n",
    "train_names = os.listdir(train_path)\n",
    "labels = [_.split('.')[0] for _ in train_names]\n",
    "classes = [1 if _ == 'dog' else 0 for _ in labels]\n",
    "df = pd.DataFrame({'filename': train_names, 'label': labels, 'class': classes})\n",
    "df = df.sample(frac=1).reset_index(drop=True)  # Shuffle rows\n",
    "df['label'].value_counts().plot.bar()  # Show item counts\n",
    "plt.show()\n",
    "df.head()  # Show a few lines of the table"
   ]
  },
  {
   "cell_type": "code",
   "execution_count": null,
   "metadata": {},
   "outputs": [],
   "source": [
    "# Display a sample image\n",
    "import random\n",
    "from tensorflow.keras.preprocessing.image import load_img\n",
    "\n",
    "\n",
    "sample = random.choice(train_names)\n",
    "image = load_img(train_path / sample)\n",
    "plt.imshow(image)"
   ]
  },
  {
   "cell_type": "code",
   "execution_count": null,
   "metadata": {},
   "outputs": [],
   "source": [
    "# Create model\n",
    "import tensorflow as tf\n",
    "\n",
    "\n",
    "IMAGE_WIDTH = 128\n",
    "IMAGE_HEIGHT = 128\n",
    "IMAGE_SIZE = (IMAGE_WIDTH, IMAGE_HEIGHT)\n",
    "IMAGE_CHANNELS = 3 # RGB color\n",
    "\n",
    "model = tf.keras.models.Sequential()\n",
    "\n",
    "model.add(tf.keras.layers.Conv2D(32, (3, 3), activation='relu',\n",
    "                                 input_shape=(IMAGE_WIDTH, IMAGE_HEIGHT, IMAGE_CHANNELS)))\n",
    "model.add(tf.keras.layers.BatchNormalization())\n",
    "model.add(tf.keras.layers.MaxPooling2D(pool_size=(2, 2)))\n",
    "model.add(tf.keras.layers.Dropout(0.25))\n",
    "\n",
    "model.add(tf.keras.layers.Conv2D(64, (3, 3), activation='relu'))\n",
    "model.add(tf.keras.layers.BatchNormalization())\n",
    "model.add(tf.keras.layers.MaxPooling2D(pool_size=(2, 2)))\n",
    "model.add(tf.keras.layers.Dropout(0.25))\n",
    "\n",
    "model.add(tf.keras.layers.Conv2D(128, (3, 3), activation='relu'))\n",
    "model.add(tf.keras.layers.BatchNormalization())\n",
    "model.add(tf.keras.layers.MaxPooling2D(pool_size=(2, 2)))\n",
    "model.add(tf.keras.layers.Dropout(0.25))\n",
    "\n",
    "model.add(tf.keras.layers.Flatten())\n",
    "model.add(tf.keras.layers.Dense(512, activation='relu'))\n",
    "model.add(tf.keras.layers.BatchNormalization())\n",
    "model.add(tf.keras.layers.Dropout(0.5))\n",
    "model.add(tf.keras.layers.Dense(1, activation='sigmoid'))\n",
    "\n",
    "model.compile(loss='binary_crossentropy', optimizer='rmsprop', metrics=['accuracy'])\n",
    "\n",
    "model.summary()"
   ]
  },
  {
   "cell_type": "code",
   "execution_count": null,
   "metadata": {},
   "outputs": [],
   "source": [
    "# Prepare callbacks\n",
    "\n",
    "# import tensorboardcolab as tbc\n",
    "# tbc_init = tbc.TensorBoardColab()\n",
    "# tbc_cb = tbc.TensorBoardColabCallback(tbc_init)\n",
    "\n",
    "earlystop = tf.keras.callbacks.EarlyStopping(patience=10)\n",
    "learning_rate_reduction = tf.keras.callbacks.ReduceLROnPlateau(\n",
    "    monitor='val_accuracy', patience=2, verbose=1, factor=0.5, min_lr=0.00001)\n",
    "callbacks = [earlystop, learning_rate_reduction]"
   ]
  },
  {
   "cell_type": "code",
   "execution_count": null,
   "metadata": {},
   "outputs": [],
   "source": [
    "# Separate train and validation data (0.8, 0.2 respectively)\n",
    "from sklearn.model_selection import train_test_split\n",
    "\n",
    "P_VALID = 0.2\n",
    "\n",
    "train_df, valid_df = train_test_split(df, test_size=P_VALID, random_state=42)\n",
    "train_df = train_df.reset_index(drop=True)\n",
    "valid_df = valid_df.reset_index(drop=True)\n",
    "n_train, n_validate = train_df.shape[0], valid_df.shape[0]"
   ]
  },
  {
   "cell_type": "code",
   "execution_count": null,
   "metadata": {},
   "outputs": [],
   "source": [
    "# Create data generators with augmentation\n",
    "from tensorflow.keras.preprocessing.image import ImageDataGenerator\n",
    "\n",
    "BATCH_SIZE = 50\n",
    "\n",
    "train_datagen = ImageDataGenerator(\n",
    "    rotation_range=15,\n",
    "    rescale=1./255,\n",
    "    shear_range=0.1,\n",
    "    zoom_range=0.2,\n",
    "    horizontal_flip=True,\n",
    "    width_shift_range=0.1,\n",
    "    height_shift_range=0.1\n",
    ")\n",
    "\n",
    "train_generator = train_datagen.flow_from_dataframe(\n",
    "    train_df, \n",
    "    train_path, \n",
    "    x_col='filename',\n",
    "    y_col='label',\n",
    "    target_size=IMAGE_SIZE,\n",
    "    class_mode='binary',\n",
    "    batch_size=BATCH_SIZE\n",
    ")\n",
    "\n",
    "validation_datagen = ImageDataGenerator(rescale=1./255)\n",
    "validation_generator = validation_datagen.flow_from_dataframe(\n",
    "    valid_df, \n",
    "    Path.cwd() / 'data' / 'dogscats' / 'train', \n",
    "    x_col='filename',\n",
    "    y_col='label',\n",
    "    target_size=IMAGE_SIZE,\n",
    "    class_mode='binary',\n",
    "    batch_size=BATCH_SIZE\n",
    ")"
   ]
  },
  {
   "cell_type": "code",
   "execution_count": null,
   "metadata": {},
   "outputs": [],
   "source": [
    "# Fit model\n",
    "history = model.fit_generator(\n",
    "    train_generator, \n",
    "    epochs=5,  # increase to 50 to get some good results\n",
    "    validation_data=validation_generator,\n",
    "    validation_steps=n_validate//BATCH_SIZE,\n",
    "    steps_per_epoch=n_train//BATCH_SIZE,\n",
    "    callbacks=callbacks\n",
    ")"
   ]
  },
  {
   "cell_type": "code",
   "execution_count": null,
   "metadata": {},
   "outputs": [],
   "source": [
    "# Visualize Training\n",
    "fig, (ax1, ax2) = plt.subplots(1, 2, figsize=(12, 6), facecolor='white')\n",
    "\n",
    "ax1.plot(history.history['loss'], color='b', label=\"Training loss\")\n",
    "ax1.plot(history.history['val_loss'], color='r', label=\"validation loss\")\n",
    "ax1.set_ylabel('Loss')\n",
    "ax1.set_xlabel('Epochs')\n",
    "ax1.legend(loc='best', shadow=True)\n",
    "\n",
    "ax2.plot(history.history['accuracy'], color='b', label=\"Training accuracy\")\n",
    "ax2.plot(history.history['val_accuracy'], color='r',label=\"Validation accuracy\")\n",
    "ax2.set_ylabel('Accuracy')\n",
    "ax2.set_xlabel('Epochs')\n",
    "ax2.legend(loc='best', shadow=True)\n",
    "\n",
    "plt.tight_layout()\n",
    "plt.show()"
   ]
  }
 ],
 "metadata": {
  "kernelspec": {
   "display_name": "Python 3",
   "language": "python",
   "name": "python3"
  },
  "language_info": {
   "codemirror_mode": {
    "name": "ipython",
    "version": 3
   },
   "file_extension": ".py",
   "mimetype": "text/x-python",
   "name": "python",
   "nbconvert_exporter": "python",
   "pygments_lexer": "ipython3",
   "version": "3.6.7"
  },
  "pycharm": {
   "stem_cell": {
    "cell_type": "raw",
    "metadata": {
     "collapsed": false
    },
    "source": []
   }
  }
 },
 "nbformat": 4,
 "nbformat_minor": 1
}
